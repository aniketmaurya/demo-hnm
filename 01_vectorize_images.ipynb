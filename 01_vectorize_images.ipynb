{
 "cells": [
  {
   "cell_type": "code",
   "execution_count": 1,
   "id": "c9d31e64-97bf-4d07-b680-040f8d0cc7d2",
   "metadata": {
    "pycharm": {
     "name": "#%%\n"
    }
   },
   "outputs": [],
   "source": [
    "from IPython.display import clear_output\n",
    "from img2vec_pytorch import Img2Vec\n",
    "from PIL import Image\n",
    "\n",
    "from pathlib import Path\n",
    "\n",
    "from qdrant_client import QdrantClient\n",
    "\n",
    "from more_itertools import chunked\n",
    "\n",
    "import pandas as pd\n",
    "import numpy as np\n",
    "import tqdm\n",
    "import conf"
   ]
  },
  {
   "cell_type": "code",
   "execution_count": null,
   "outputs": [],
   "source": [
    "articles_df = pd.read_csv(\n",
    "    \"./data/articles.csv\",\n",
    "    dtype={\"article_id\": \"str\"}\n",
    ")"
   ],
   "metadata": {
    "collapsed": false,
    "pycharm": {
     "name": "#%%\n"
    }
   }
  },
  {
   "cell_type": "code",
   "execution_count": 2,
   "outputs": [
    {
     "data": {
      "text/html": [
       "<div>\n",
       "<style scoped>\n",
       "    .dataframe tbody tr th:only-of-type {\n",
       "        vertical-align: middle;\n",
       "    }\n",
       "\n",
       "    .dataframe tbody tr th {\n",
       "        vertical-align: top;\n",
       "    }\n",
       "\n",
       "    .dataframe thead th {\n",
       "        text-align: right;\n",
       "    }\n",
       "</style>\n",
       "<table border=\"1\" class=\"dataframe\">\n",
       "  <thead>\n",
       "    <tr style=\"text-align: right;\">\n",
       "      <th></th>\n",
       "      <th>article_id</th>\n",
       "      <th>product_code</th>\n",
       "      <th>prod_name</th>\n",
       "      <th>product_type_no</th>\n",
       "      <th>product_type_name</th>\n",
       "      <th>product_group_name</th>\n",
       "      <th>graphical_appearance_no</th>\n",
       "      <th>graphical_appearance_name</th>\n",
       "      <th>colour_group_code</th>\n",
       "      <th>colour_group_name</th>\n",
       "      <th>...</th>\n",
       "      <th>department_name</th>\n",
       "      <th>index_code</th>\n",
       "      <th>index_name</th>\n",
       "      <th>index_group_no</th>\n",
       "      <th>index_group_name</th>\n",
       "      <th>section_no</th>\n",
       "      <th>section_name</th>\n",
       "      <th>garment_group_no</th>\n",
       "      <th>garment_group_name</th>\n",
       "      <th>detail_desc</th>\n",
       "    </tr>\n",
       "  </thead>\n",
       "  <tbody>\n",
       "    <tr>\n",
       "      <th>76949</th>\n",
       "      <td>0787185003</td>\n",
       "      <td>787185</td>\n",
       "      <td>SOLNA crewneck</td>\n",
       "      <td>252</td>\n",
       "      <td>Sweater</td>\n",
       "      <td>Garment Upper body</td>\n",
       "      <td>1010014</td>\n",
       "      <td>Placement print</td>\n",
       "      <td>73</td>\n",
       "      <td>Dark Blue</td>\n",
       "      <td>...</td>\n",
       "      <td>Young Boy Jersey Fancy</td>\n",
       "      <td>I</td>\n",
       "      <td>Children Sizes 134-170</td>\n",
       "      <td>4</td>\n",
       "      <td>Baby/Children</td>\n",
       "      <td>47</td>\n",
       "      <td>Young Boy</td>\n",
       "      <td>1005</td>\n",
       "      <td>Jersey Fancy</td>\n",
       "      <td>Top in sweatshirt fabric made from a cotton bl...</td>\n",
       "    </tr>\n",
       "    <tr>\n",
       "      <th>47344</th>\n",
       "      <td>0688662002</td>\n",
       "      <td>688662</td>\n",
       "      <td>2P SKINNY CHEAPO</td>\n",
       "      <td>272</td>\n",
       "      <td>Trousers</td>\n",
       "      <td>Garment Lower body</td>\n",
       "      <td>1010023</td>\n",
       "      <td>Denim</td>\n",
       "      <td>7</td>\n",
       "      <td>Grey</td>\n",
       "      <td>...</td>\n",
       "      <td>Kids Boy Denim</td>\n",
       "      <td>H</td>\n",
       "      <td>Children Sizes 92-140</td>\n",
       "      <td>4</td>\n",
       "      <td>Baby/Children</td>\n",
       "      <td>46</td>\n",
       "      <td>Kids Boy</td>\n",
       "      <td>1016</td>\n",
       "      <td>Trousers Denim</td>\n",
       "      <td>Slim-fit jeans in different colours of superst...</td>\n",
       "    </tr>\n",
       "    <tr>\n",
       "      <th>66581</th>\n",
       "      <td>0748566023</td>\n",
       "      <td>748566</td>\n",
       "      <td>SARGASSO HW ankle tights</td>\n",
       "      <td>273</td>\n",
       "      <td>Leggings/Tights</td>\n",
       "      <td>Garment Lower body</td>\n",
       "      <td>1010001</td>\n",
       "      <td>All over pattern</td>\n",
       "      <td>19</td>\n",
       "      <td>Greenish Khaki</td>\n",
       "      <td>...</td>\n",
       "      <td>Ladies Sport Bottoms</td>\n",
       "      <td>S</td>\n",
       "      <td>Sport</td>\n",
       "      <td>26</td>\n",
       "      <td>Sport</td>\n",
       "      <td>5</td>\n",
       "      <td>Ladies H&amp;M Sport</td>\n",
       "      <td>1005</td>\n",
       "      <td>Jersey Fancy</td>\n",
       "      <td>High-waisted, ankle-length sports tights in fa...</td>\n",
       "    </tr>\n",
       "    <tr>\n",
       "      <th>47137</th>\n",
       "      <td>0687934001</td>\n",
       "      <td>687934</td>\n",
       "      <td>Sister off shoulder</td>\n",
       "      <td>252</td>\n",
       "      <td>Sweater</td>\n",
       "      <td>Garment Upper body</td>\n",
       "      <td>1010016</td>\n",
       "      <td>Solid</td>\n",
       "      <td>9</td>\n",
       "      <td>Black</td>\n",
       "      <td>...</td>\n",
       "      <td>Tops Fancy Jersey</td>\n",
       "      <td>D</td>\n",
       "      <td>Divided</td>\n",
       "      <td>2</td>\n",
       "      <td>Divided</td>\n",
       "      <td>53</td>\n",
       "      <td>Divided Collection</td>\n",
       "      <td>1005</td>\n",
       "      <td>Jersey Fancy</td>\n",
       "      <td>Off-the-shoulder top in sweatshirt fabric with...</td>\n",
       "    </tr>\n",
       "    <tr>\n",
       "      <th>13162</th>\n",
       "      <td>0556584001</td>\n",
       "      <td>556584</td>\n",
       "      <td>Christina patent boot</td>\n",
       "      <td>87</td>\n",
       "      <td>Boots</td>\n",
       "      <td>Shoes</td>\n",
       "      <td>1010016</td>\n",
       "      <td>Solid</td>\n",
       "      <td>9</td>\n",
       "      <td>Black</td>\n",
       "      <td>...</td>\n",
       "      <td>Divided Shoes</td>\n",
       "      <td>D</td>\n",
       "      <td>Divided</td>\n",
       "      <td>2</td>\n",
       "      <td>Divided</td>\n",
       "      <td>52</td>\n",
       "      <td>Divided Accessories</td>\n",
       "      <td>1020</td>\n",
       "      <td>Shoes</td>\n",
       "      <td>Boots in imitation patent leather with lacing ...</td>\n",
       "    </tr>\n",
       "  </tbody>\n",
       "</table>\n",
       "<p>5 rows × 25 columns</p>\n",
       "</div>"
      ],
      "text/plain": [
       "       article_id  product_code                 prod_name  product_type_no  \\\n",
       "76949  0787185003        787185            SOLNA crewneck              252   \n",
       "47344  0688662002        688662          2P SKINNY CHEAPO              272   \n",
       "66581  0748566023        748566  SARGASSO HW ankle tights              273   \n",
       "47137  0687934001        687934       Sister off shoulder              252   \n",
       "13162  0556584001        556584     Christina patent boot               87   \n",
       "\n",
       "      product_type_name  product_group_name  graphical_appearance_no  \\\n",
       "76949           Sweater  Garment Upper body                  1010014   \n",
       "47344          Trousers  Garment Lower body                  1010023   \n",
       "66581   Leggings/Tights  Garment Lower body                  1010001   \n",
       "47137           Sweater  Garment Upper body                  1010016   \n",
       "13162             Boots               Shoes                  1010016   \n",
       "\n",
       "      graphical_appearance_name  colour_group_code colour_group_name  ...  \\\n",
       "76949           Placement print                 73         Dark Blue  ...   \n",
       "47344                     Denim                  7              Grey  ...   \n",
       "66581          All over pattern                 19    Greenish Khaki  ...   \n",
       "47137                     Solid                  9             Black  ...   \n",
       "13162                     Solid                  9             Black  ...   \n",
       "\n",
       "              department_name index_code              index_name  \\\n",
       "76949  Young Boy Jersey Fancy          I  Children Sizes 134-170   \n",
       "47344          Kids Boy Denim          H   Children Sizes 92-140   \n",
       "66581    Ladies Sport Bottoms          S                   Sport   \n",
       "47137       Tops Fancy Jersey          D                 Divided   \n",
       "13162           Divided Shoes          D                 Divided   \n",
       "\n",
       "      index_group_no  index_group_name section_no         section_name  \\\n",
       "76949              4     Baby/Children         47            Young Boy   \n",
       "47344              4     Baby/Children         46             Kids Boy   \n",
       "66581             26             Sport          5     Ladies H&M Sport   \n",
       "47137              2           Divided         53   Divided Collection   \n",
       "13162              2           Divided         52  Divided Accessories   \n",
       "\n",
       "      garment_group_no  garment_group_name  \\\n",
       "76949             1005        Jersey Fancy   \n",
       "47344             1016      Trousers Denim   \n",
       "66581             1005        Jersey Fancy   \n",
       "47137             1005        Jersey Fancy   \n",
       "13162             1020               Shoes   \n",
       "\n",
       "                                             detail_desc  \n",
       "76949  Top in sweatshirt fabric made from a cotton bl...  \n",
       "47344  Slim-fit jeans in different colours of superst...  \n",
       "66581  High-waisted, ankle-length sports tights in fa...  \n",
       "47137  Off-the-shoulder top in sweatshirt fabric with...  \n",
       "13162  Boots in imitation patent leather with lacing ...  \n",
       "\n",
       "[5 rows x 25 columns]"
      ]
     },
     "execution_count": 2,
     "metadata": {},
     "output_type": "execute_result"
    }
   ],
   "source": [
    "articles_df.sample(n=5)"
   ],
   "metadata": {
    "collapsed": false,
    "pycharm": {
     "name": "#%%\n"
    }
   }
  },
  {
   "cell_type": "code",
   "execution_count": 3,
   "id": "6e802d98-5ca3-4266-912e-18de5d4dcd81",
   "metadata": {
    "pycharm": {
     "name": "#%%\n"
    }
   },
   "outputs": [],
   "source": [
    "columns = [\n",
    "    \"colour_group_name\",\n",
    "    \"department_name\",\n",
    "    \"garment_group_name\",\n",
    "    \"graphical_appearance_name\",\n",
    "    \"index_group_name\",\n",
    "    \"index_name\",\n",
    "    \"perceived_colour_master_name\",\n",
    "    \"perceived_colour_value_name\",\n",
    "    \"product_group_name\",\n",
    "    \"product_type_name\",\n",
    "    \"section_name\",\n",
    "]"
   ]
  },
  {
   "cell_type": "code",
   "execution_count": 6,
   "id": "67813f32-8351-4cc0-a723-6543226dd10c",
   "metadata": {
    "pycharm": {
     "name": "#%%\n"
    }
   },
   "outputs": [],
   "source": [
    "filters = []\n",
    "for col_name in columns:\n",
    "    col_values = articles_df[col_name].unique()\n",
    "    filters.append({\n",
    "        \"name\": col_name,\n",
    "        \"display_name\": col_name,\n",
    "        \"values\": list(col_values)\n",
    "    })"
   ]
  },
  {
   "cell_type": "code",
   "execution_count": 7,
   "id": "b9da5c0b-45e8-4d66-a8b7-bfaad7bef691",
   "metadata": {
    "pycharm": {
     "name": "#%%\n"
    }
   },
   "outputs": [],
   "source": [
    "import json"
   ]
  },
  {
   "cell_type": "code",
   "execution_count": 10,
   "id": "63530610-b429-4d77-86ef-d1dc579a3ab1",
   "metadata": {
    "pycharm": {
     "name": "#%%\n"
    }
   },
   "outputs": [],
   "source": [
    "with open(\"filters.json\", \"w\") as fp:\n",
    "    json.dump(filters, fp, indent=2)"
   ]
  },
  {
   "cell_type": "code",
   "execution_count": null,
   "id": "d9b3b38a",
   "metadata": {
    "collapsed": false,
    "jupyter": {
     "outputs_hidden": false
    },
    "pycharm": {
     "name": "#%%\n"
    }
   },
   "outputs": [],
   "source": [
    "img2vec = Img2Vec(cuda=True, model=conf.MODEL_NAME, layer_output_size=conf.VECTOR_SIZE)"
   ]
  },
  {
   "cell_type": "code",
   "execution_count": null,
   "id": "34a2da46",
   "metadata": {
    "collapsed": false,
    "jupyter": {
     "outputs_hidden": false
    },
    "pycharm": {
     "name": "#%%\n"
    }
   },
   "outputs": [],
   "source": [
    "client = QdrantClient(host=conf.QDRANT_HOST, port=conf.QDRANT_PORT)"
   ]
  },
  {
   "cell_type": "code",
   "execution_count": null,
   "id": "0e24fe47",
   "metadata": {
    "collapsed": false,
    "jupyter": {
     "outputs_hidden": false
    },
    "pycharm": {
     "name": "#%%\n"
    }
   },
   "outputs": [],
   "source": [
    "client.recreate_collection(\n",
    "    collection_name=conf.COLLECTION_NAME,\n",
    "    distance=conf.DISTANCE_FUNCTION,\n",
    "    vector_size=conf.VECTOR_SIZE,\n",
    ")"
   ]
  },
  {
   "cell_type": "code",
   "execution_count": null,
   "id": "30a06dc7",
   "metadata": {
    "collapsed": false,
    "jupyter": {
     "outputs_hidden": false
    },
    "pycharm": {
     "name": "#%%\n"
    }
   },
   "outputs": [],
   "source": [
    "image_paths = list(Path(\"./data/images\").rglob(\"*.jpg\"))"
   ]
  },
  {
   "cell_type": "code",
   "execution_count": null,
   "id": "55b71d73",
   "metadata": {
    "collapsed": false,
    "jupyter": {
     "outputs_hidden": false
    },
    "pycharm": {
     "name": "#%%\n"
    }
   },
   "outputs": [],
   "source": [
    "from qdrant_client.http.models import PointsBatch, Batch"
   ]
  },
  {
   "cell_type": "code",
   "execution_count": null,
   "id": "52fa94da",
   "metadata": {
    "collapsed": false,
    "jupyter": {
     "outputs_hidden": false
    },
    "pycharm": {
     "name": "#%%\n"
    }
   },
   "outputs": [],
   "source": [
    "chunks = chunked(image_paths, conf.BATCH_SIZE)\n",
    "for image_batch in tqdm.notebook.tqdm(list(chunks)):\n",
    "    ids = []\n",
    "    payloads = []\n",
    "    vectors = []\n",
    "    \n",
    "    for path in image_batch:\n",
    "        try:\n",
    "            article_id = path.stem\n",
    "            ids.append(int(article_id))\n",
    "\n",
    "            article_mask = articles_df[\"article_id\"] == article_id\n",
    "            article = articles_df[article_mask].iloc[0].replace({np.nan: None}).to_dict()\n",
    "            payloads.append(article)\n",
    "\n",
    "            img = Image.open(path).convert(\"RGB\")\n",
    "            vector = img2vec.get_vec(img, tensor=False).tolist()\n",
    "            vectors.append(vector)\n",
    "        except ValueError as e:\n",
    "            print(e)\n",
    "\n",
    "    client.http.points_api.upsert_points(\n",
    "        collection_name=conf.COLLECTION_NAME,\n",
    "        wait=True,\n",
    "        point_insert_operations=PointsBatch(\n",
    "            batch=Batch(\n",
    "                ids=ids,\n",
    "                payloads=payloads,\n",
    "                vectors=vectors,\n",
    "            )\n",
    "        ),\n",
    "    )"
   ]
  },
  {
   "cell_type": "code",
   "execution_count": null,
   "id": "5e399375-572e-471f-9dbc-2ba9eaff2253",
   "metadata": {
    "pycharm": {
     "name": "#%%\n"
    }
   },
   "outputs": [],
   "source": []
  }
 ],
 "metadata": {
  "kernelspec": {
   "display_name": "Python 3 (ipykernel)",
   "language": "python",
   "name": "python3"
  },
  "language_info": {
   "codemirror_mode": {
    "name": "ipython",
    "version": 3
   },
   "file_extension": ".py",
   "mimetype": "text/x-python",
   "name": "python",
   "nbconvert_exporter": "python",
   "pygments_lexer": "ipython3",
   "version": "3.9.7"
  }
 },
 "nbformat": 4,
 "nbformat_minor": 5
}